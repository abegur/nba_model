{
 "cells": [
  {
   "cell_type": "markdown",
   "metadata": {},
   "source": [
    "# NBA FORECAST MODEL:\n",
    "## my_model\n",
    "Creates and develops from scratch a data-mining pipeline that utilizes the NBA API to deploy a linear regression and decision tree model for NBA game predictions\n",
    "\n",
    "#Model: \n",
    "## getData\n",
    "Retrieves all scratch data using the NBA API\n",
    "\n",
    "## findAvgs\n",
    "Finds the ten day rolling average for each team for each game in each attribute\n",
    "\n",
    "## combine_Teams\n",
    "Combines rows for teams that play against each other and sorts the rows based on game date\n",
    "\n",
    "## get_zscores\n",
    "Calculates zscores for each team + fits data to linear regression and decision tree model\n"
   ]
  },
  {
   "cell_type": "code",
   "execution_count": null,
   "metadata": {},
   "outputs": [],
   "source": []
  }
 ],
 "metadata": {
  "kernelspec": {
   "display_name": "Python 3",
   "language": "python",
   "name": "python3"
  },
  "language_info": {
   "codemirror_mode": {
    "name": "ipython",
    "version": 3
   },
   "file_extension": ".py",
   "mimetype": "text/x-python",
   "name": "python",
   "nbconvert_exporter": "python",
   "pygments_lexer": "ipython3",
   "version": "3.7.6"
  }
 },
 "nbformat": 4,
 "nbformat_minor": 4
}
